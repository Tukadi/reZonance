{
 "cells": [],
 "metadata": {
  "interpreter": {
   "hash": "539eca92b53356560fcf13712176d1475331f401f254002ac8a29baaa0590027"
  },
  "kernelspec": {
   "display_name": "Python 3.8.0 32-bit ('venv': venv)",
   "name": "python3"
  },
  "language_info": {
   "name": "python",
   "version": ""
  },
  "orig_nbformat": 4
 },
 "nbformat": 4,
 "nbformat_minor": 2
}